{
 "cells": [
  {
   "cell_type": "code",
   "execution_count": 1,
   "metadata": {
    "_cell_guid": "b1076dfc-b9ad-4769-8c92-a6c4dae69d19",
    "_uuid": "8f2839f25d086af736a60e9eeb907d3b93b6e0e5"
   },
   "outputs": [
    {
     "name": "stderr",
     "output_type": "stream",
     "text": [
      "Using TensorFlow backend.\n"
     ]
    }
   ],
   "source": [
    "import keras\n",
    "import numpy as np # linear algebra\n",
    "import pandas as pd # data processing, CSV file I/O (e.g. pd.read_csv)\n",
    "import math\n",
    "import cv2\n",
    "import matplotlib.pyplot as plt\n",
    "import os\n",
    "import seaborn as sns\n",
    "import umap\n",
    "from PIL import Image\n",
    "from scipy import misc\n",
    "from os import listdir\n",
    "from os.path import isfile, join\n",
    "import numpy as np\n",
    "from scipy import misc\n",
    "from random import shuffle\n",
    "from collections import Counter\n",
    "import matplotlib.pyplot as plt\n",
    "from sklearn.decomposition import PCA\n",
    "from sklearn.manifold import TSNE\n",
    "import tensorflow as tf\n",
    "from keras.models import Sequential\n",
    "from keras.layers import Conv2D, MaxPooling2D, BatchNormalization\n",
    "from keras.layers import Activation, Dropout, Flatten, Dense\n",
    "from keras.utils.np_utils import to_categorical\n",
    "from sklearn.metrics import accuracy_score, confusion_matrix"
   ]
  },
  {
   "cell_type": "code",
   "execution_count": 2,
   "metadata": {},
   "outputs": [],
   "source": [
    "yes=os.listdir('../input/brain_tumor_dataset/yes')\n",
    "no=os.listdir('../input/brain_tumor_dataset/no')"
   ]
  },
  {
   "cell_type": "code",
   "execution_count": 3,
   "metadata": {},
   "outputs": [
    {
     "data": {
      "text/plain": [
       "True"
      ]
     },
     "execution_count": 3,
     "metadata": {},
     "output_type": "execute_result"
    }
   ],
   "source": [
    "data=np.concatenate([yes,no])\n",
    "len(data)==len(yes)+len(no)"
   ]
  },
  {
   "cell_type": "code",
   "execution_count": 4,
   "metadata": {},
   "outputs": [
    {
     "data": {
      "text/plain": [
       "True"
      ]
     },
     "execution_count": 4,
     "metadata": {},
     "output_type": "execute_result"
    }
   ],
   "source": [
    "target_x=np.full(len(yes),1)\n",
    "target_y=np.full(len(no),0)\n",
    "data_target=np.concatenate([target_x,target_y])\n",
    "len(data_target)==len(target_x)+len(target_y)"
   ]
  },
  {
   "cell_type": "code",
   "execution_count": 5,
   "metadata": {},
   "outputs": [
    {
     "data": {
      "text/plain": [
       "True"
      ]
     },
     "execution_count": 5,
     "metadata": {},
     "output_type": "execute_result"
    }
   ],
   "source": [
    "len(data_target)==len(data)"
   ]
  },
  {
   "cell_type": "code",
   "execution_count": 6,
   "metadata": {},
   "outputs": [
    {
     "data": {
      "text/plain": [
       "array([1, 1, 1, 1, 1, 1, 1, 1, 1, 1, 1, 1, 1, 1, 1, 1, 1, 1, 1, 1, 1, 1,\n",
       "       1, 1, 1, 1, 1, 1, 1, 1, 1, 1, 1, 1, 1, 1, 1, 1, 1, 1, 1, 1, 1, 1,\n",
       "       1, 1, 1, 1, 1, 1, 1, 1, 1, 1, 1, 1, 1, 1, 1, 1, 1, 1, 1, 1, 1, 1,\n",
       "       1, 1, 1, 1, 1, 1, 1, 1, 1, 1, 1, 1, 1, 1, 1, 1, 1, 1, 1, 1, 1, 1,\n",
       "       1, 1, 1, 1, 1, 1, 1, 1, 1, 1, 1, 1, 1, 1, 1, 1, 1, 1, 1, 1, 1, 1,\n",
       "       1, 1, 1, 1, 1, 1, 1, 1, 1, 1, 1, 1, 1, 1, 1, 1, 1, 1, 1, 1, 1, 1,\n",
       "       1, 1, 1, 1, 1, 1, 1, 1, 1, 1, 1, 1, 1, 1, 1, 1, 1, 1, 1, 1, 1, 1,\n",
       "       1, 0, 0, 0, 0, 0, 0, 0, 0, 0, 0, 0, 0, 0, 0, 0, 0, 0, 0, 0, 0, 0,\n",
       "       0, 0, 0, 0, 0, 0, 0, 0, 0, 0, 0, 0, 0, 0, 0, 0, 0, 0, 0, 0, 0, 0,\n",
       "       0, 0, 0, 0, 0, 0, 0, 0, 0, 0, 0, 0, 0, 0, 0, 0, 0, 0, 0, 0, 0, 0,\n",
       "       0, 0, 0, 0, 0, 0, 0, 0, 0, 0, 0, 0, 0, 0, 0, 0, 0, 0, 0, 0, 0, 0,\n",
       "       0, 0, 0, 0, 0, 0, 0, 0, 0, 0, 0])"
      ]
     },
     "execution_count": 6,
     "metadata": {},
     "output_type": "execute_result"
    }
   ],
   "source": [
    "data_target"
   ]
  },
  {
   "cell_type": "code",
   "execution_count": 7,
   "metadata": {},
   "outputs": [
    {
     "data": {
      "text/plain": [
       "array(['Y98.JPG', 'Y155.JPG', 'Y251.JPG', 'Y243.JPG', 'Y242.JPG',\n",
       "       'Y60.jpg', 'Y113.JPG', 'Y111.JPG', 'Y167.JPG', 'Y34.jpg',\n",
       "       'Y255.JPG', 'Y254.jpg', 'Y56.jpg', 'Y40.JPG', 'Y9.jpg', 'Y3.jpg',\n",
       "       'Y104.jpg', 'Y79.jpg', 'Y180.jpg', 'Y81.jpg', 'Y109.JPG',\n",
       "       'Y153.jpg', 'Y50.JPG', 'Y8.jpg', 'Y61.jpg', 'Y256.JPG', 'Y12.jpg',\n",
       "       'Y49.JPG', 'Y107.jpg', 'Y19.JPG', 'Y95.jpg', 'Y92.png', 'Y51.jpg',\n",
       "       'Y182.JPG', 'Y24.jpg', 'Y249.JPG', 'Y21.jpg', 'Y55.jpg', 'Y32.jpg',\n",
       "       'Y26.jpg', 'Y78.jpg', 'Y120.JPG', 'Y100.JPG', 'Y47.JPG',\n",
       "       'Y156.JPG', 'Y41.jpg', 'Y183.jpg', 'Y259.JPG', 'Y193.JPG',\n",
       "       'Y13.jpg', 'Y117.JPG', 'Y42.jpg', 'Y70.jpg', 'Y188.jpg', 'Y16.JPG',\n",
       "       'Y71.JPG', 'Y99.JPG', 'Y147.JPG', 'Y257.jpg', 'Y106.jpg',\n",
       "       'Y112.JPG', 'Y157.JPG', 'Y44.JPG', 'Y248.JPG', 'Y23.JPG',\n",
       "       'Y160.JPG', 'Y246.JPG', 'Y169.jpg', 'Y15.jpg', 'Y66.JPG',\n",
       "       'Y159.JPG', 'Y86.JPG', 'Y146.JPG', 'Y7.jpg', 'Y166.JPG',\n",
       "       'Y164.JPG', 'Y54.jpg', 'Y77.jpg', 'Y46.jpg', 'Y35.jpg', 'Y245.jpg',\n",
       "       'Y163.JPG', 'Y105.jpg', 'Y244.JPG', 'Y195.JPG', 'Y73.jpg',\n",
       "       'Y20.jpg', 'Y36.JPG', 'Y258.JPG', 'Y250.jpg', 'Y25.jpg',\n",
       "       'Y185.jpg', 'Y165.JPG', 'Y184.JPG', 'Y116.JPG', 'Y38.jpg',\n",
       "       'Y17.jpg', 'Y10.jpg', 'Y6.jpg', 'Y194.jpg', 'Y28.jpg', 'Y115.JPG',\n",
       "       'Y22.jpg', 'Y76.jpg', 'Y186.jpg', 'Y52.jpg', 'Y39.jpg', 'Y252.jpg',\n",
       "       'Y75.JPG', 'Y53.jpg', 'Y59.JPG', 'Y45.JPG', 'Y114.JPG', 'Y92.jpg',\n",
       "       'Y27.jpg', 'Y162.jpg', 'Y253.JPG', 'Y82.jpg', 'Y69.jpg', 'Y97.JPG',\n",
       "       'Y89.JPG', 'Y103.jpg', 'Y65.JPG', 'Y18.JPG', 'Y33.jpg', 'Y91.jpg',\n",
       "       'Y181.jpg', 'Y85.JPG', 'Y187.jpg', 'Y1.jpg', 'Y101.jpg', 'Y11.jpg',\n",
       "       'Y90.jpg', 'Y154.jpg', 'Y2.jpg', 'Y31.jpg', 'Y192.JPG', 'Y148.JPG',\n",
       "       'Y37.jpg', 'Y62.jpg', 'Y67.JPG', 'Y247.JPG', 'Y102.jpg',\n",
       "       'Y161.JPG', 'Y168.jpg', 'Y4.jpg', 'Y14.jpg', 'Y96.jpg', 'Y74.jpg',\n",
       "       'Y158.JPG', 'Y170.JPG', 'Y108.jpg', 'Y30.jpg', 'Y58.JPG',\n",
       "       'Y29.jpg', '4 no.jpg', '28 no.jpg', '18 no.jpg', 'no 92.jpg',\n",
       "       'No13.jpg', 'N17.jpg', 'N19.JPG', '33 no.jpg', 'no 96.jpg',\n",
       "       'N1.JPG', 'no 8.jpg', 'no 91.jpeg', 'N16.jpg', '10 no.jpg',\n",
       "       'no 1.jpg', '21 no.jpg', 'no.jpg', 'no 100.jpg', '20 no.jpg',\n",
       "       'N21.jpg', '32 no.jpg', 'no 10.jpg', 'no 923.jpg', '29 no.jpg',\n",
       "       'N20.JPG', 'no 7.jpeg', '45 no.jpg', '1 no.jpeg', 'no 95.jpg',\n",
       "       'no 3.jpg', '38 no.jpg', 'No12.jpg', '6 no.jpg', '17 no.jpg',\n",
       "       'no 6.jpg', 'No20.jpg', 'N15.jpg', '49 no.jpg', '14 no.jpg',\n",
       "       '47 no.jpg', 'No21.jpg', 'no 97.jpg', 'no 89.jpg', '39 no.jpg',\n",
       "       'No17.jpg', '26 no.jpg', '36 no.jpg', '31 no.jpg', '12 no.jpg',\n",
       "       'N6.jpg', 'N3.jpg', 'No15.jpg', 'no 4.jpg', '35 no.jpg',\n",
       "       '46 no.jpg', '9 no.jpg', 'No14.jpg', '24 no.jpg', '11 no.jpg',\n",
       "       '37 no.jpg', 'N11.jpg', 'No22.jpg', '25 no.jpg', '3 no.jpg',\n",
       "       'no 98.jpg', '43 no.jpg', '41 no.jpg', 'no 9.png', '15 no.jpg',\n",
       "       '34 no.jpg', '44no.jpg', 'No19.jpg', 'N26.JPG', '13 no.jpg',\n",
       "       'no 99.jpg', '48 no.jpeg', 'No11.jpg', 'no 2.jpg', 'no 90.jpg',\n",
       "       '8 no.jpg', '23 no.jpg', 'No16.jpg', '40 no.jpg', '42 no.jpg',\n",
       "       '27 no.jpg', 'No18.jpg', 'N5.jpg', '50 no.jpg', 'no 5.jpeg',\n",
       "       '2 no.jpeg', '22 no.jpg', 'N2.JPG', 'N22.JPG', '5 no.jpg',\n",
       "       'no 94.jpg', '30 no.jpg', '7 no.jpg', '19 no.jpg'], dtype='<U10')"
      ]
     },
     "execution_count": 7,
     "metadata": {},
     "output_type": "execute_result"
    }
   ],
   "source": [
    "data"
   ]
  },
  {
   "cell_type": "code",
   "execution_count": 8,
   "metadata": {},
   "outputs": [],
   "source": [
    "yes_values=os.listdir('../input/brain_tumor_dataset/yes')\n",
    "no_values=os.listdir('../input/brain_tumor_dataset/no')"
   ]
  },
  {
   "cell_type": "code",
   "execution_count": 9,
   "metadata": {},
   "outputs": [],
   "source": [
    "X_data =[]\n",
    "for file in yes_values:\n",
    "    #face = misc.imread('../input/brain_tumor_dataset/yes/'+file)\n",
    "    img = cv2.imread('../input/brain_tumor_dataset/yes/'+file)\n",
    "    face = cv2.resize(img, (32, 32) )\n",
    "    (b, g, r)=cv2.split(face) \n",
    "    img=cv2.merge([r,g,b])\n",
    "    X_data.append(img)"
   ]
  },
  {
   "cell_type": "code",
   "execution_count": 10,
   "metadata": {},
   "outputs": [],
   "source": [
    "#X_data =[]\n",
    "for file in no_values:\n",
    "    #face = misc.imread('../input/brain_tumor_dataset/yes/'+file)\n",
    "    img = cv2.imread('../input/brain_tumor_dataset/no/'+file)\n",
    "    face = cv2.resize(img, (32, 32) )\n",
    "    (b, g, r)=cv2.split(face) \n",
    "    img=cv2.merge([r,g,b])\n",
    "    X_data.append(img)"
   ]
  },
  {
   "cell_type": "code",
   "execution_count": 11,
   "metadata": {},
   "outputs": [
    {
     "data": {
      "text/plain": [
       "True"
      ]
     },
     "execution_count": 11,
     "metadata": {},
     "output_type": "execute_result"
    }
   ],
   "source": [
    "len(X_data)==len(data)==len(data_target)"
   ]
  },
  {
   "cell_type": "code",
   "execution_count": 12,
   "metadata": {},
   "outputs": [],
   "source": [
    "X = np.squeeze(X_data)\n"
   ]
  },
  {
   "cell_type": "code",
   "execution_count": 13,
   "metadata": {},
   "outputs": [
    {
     "data": {
      "text/plain": [
       "(253, 32, 32, 3)"
      ]
     },
     "execution_count": 13,
     "metadata": {},
     "output_type": "execute_result"
    }
   ],
   "source": [
    "X.shape\n"
   ]
  },
  {
   "cell_type": "code",
   "execution_count": 14,
   "metadata": {},
   "outputs": [],
   "source": [
    "# normalize data\n",
    "X = X.astype('float32')\n",
    "X /= 255"
   ]
  },
  {
   "cell_type": "code",
   "execution_count": 15,
   "metadata": {},
   "outputs": [],
   "source": [
    "#categorical_labels = to_categorical(data_target, num_classes=2)\n"
   ]
  },
  {
   "cell_type": "code",
   "execution_count": 16,
   "metadata": {},
   "outputs": [
    {
     "data": {
      "text/plain": [
       "array([1, 1, 1, 1, 1, 1, 1, 1, 1, 1, 1, 1, 1, 1, 1, 1, 1, 1, 1, 1, 1, 1,\n",
       "       1, 1, 1, 1, 1, 1, 1, 1, 1, 1, 1, 1, 1, 1, 1, 1, 1, 1, 1, 1, 1, 1,\n",
       "       1, 1, 1, 1, 1, 1, 1, 1, 1, 1, 1, 1, 1, 1, 1, 1, 1, 1, 1, 1, 1, 1,\n",
       "       1, 1, 1, 1, 1, 1, 1, 1, 1, 1, 1, 1, 1, 1, 1, 1, 1, 1, 1, 1, 1, 1,\n",
       "       1, 1, 1, 1, 1, 1, 1, 1, 1, 1, 1, 1, 1, 1, 1, 1, 1, 1, 1, 1, 1, 1,\n",
       "       1, 1, 1, 1, 1, 1, 1, 1, 1, 1, 1, 1, 1, 1, 1, 1, 1, 1, 1, 1, 1, 1,\n",
       "       1, 1, 1, 1, 1, 1, 1, 1, 1, 1, 1, 1, 1, 1, 1, 1, 1, 1, 1, 1, 1, 1,\n",
       "       1, 0, 0, 0, 0, 0, 0, 0, 0, 0, 0, 0, 0, 0, 0, 0, 0, 0, 0, 0, 0, 0,\n",
       "       0, 0, 0, 0, 0, 0, 0, 0, 0, 0, 0, 0, 0, 0, 0, 0, 0, 0, 0, 0, 0, 0,\n",
       "       0, 0, 0, 0, 0, 0, 0, 0, 0, 0, 0, 0, 0, 0, 0, 0, 0, 0, 0, 0, 0, 0,\n",
       "       0, 0, 0, 0, 0, 0, 0, 0, 0, 0, 0, 0, 0, 0, 0, 0, 0, 0, 0, 0, 0, 0,\n",
       "       0, 0, 0, 0, 0, 0, 0, 0, 0, 0, 0])"
      ]
     },
     "execution_count": 16,
     "metadata": {},
     "output_type": "execute_result"
    }
   ],
   "source": [
    "data_target"
   ]
  },
  {
   "cell_type": "code",
   "execution_count": 17,
   "metadata": {},
   "outputs": [],
   "source": [
    "(x_train, y_train), (x_test, y_test) = (X[:190],data_target[:190]) , (X[190:] , data_target[190:])\n",
    "(x_valid , y_valid) = (x_test[:63], y_test[:63])\n",
    "#(x_test, y_test) = (x_test[63:], y_test[63:])"
   ]
  },
  {
   "cell_type": "code",
   "execution_count": 18,
   "metadata": {},
   "outputs": [
    {
     "name": "stdout",
     "output_type": "stream",
     "text": [
      "WARNING:tensorflow:From /opt/conda/lib/python3.6/site-packages/tensorflow/python/ops/resource_variable_ops.py:435: colocate_with (from tensorflow.python.framework.ops) is deprecated and will be removed in a future version.\n",
      "Instructions for updating:\n",
      "Colocations handled automatically by placer.\n",
      "WARNING:tensorflow:From /opt/conda/lib/python3.6/site-packages/tensorflow/python/keras/layers/core.py:143: calling dropout (from tensorflow.python.ops.nn_ops) with keep_prob is deprecated and will be removed in a future version.\n",
      "Instructions for updating:\n",
      "Please use `rate` instead of `keep_prob`. Rate should be set to `rate = 1 - keep_prob`.\n",
      "_________________________________________________________________\n",
      "Layer (type)                 Output Shape              Param #   \n",
      "=================================================================\n",
      "conv2d (Conv2D)              (None, 32, 32, 16)        3904      \n",
      "_________________________________________________________________\n",
      "max_pooling2d (MaxPooling2D) (None, 16, 16, 16)        0         \n",
      "_________________________________________________________________\n",
      "batch_normalization_v1 (Batc (None, 16, 16, 16)        64        \n",
      "_________________________________________________________________\n",
      "dropout (Dropout)            (None, 16, 16, 16)        0         \n",
      "_________________________________________________________________\n",
      "conv2d_1 (Conv2D)            (None, 16, 16, 16)        20752     \n",
      "_________________________________________________________________\n",
      "batch_normalization_v1_1 (Ba (None, 16, 16, 16)        64        \n",
      "_________________________________________________________________\n",
      "max_pooling2d_1 (MaxPooling2 (None, 8, 8, 16)          0         \n",
      "_________________________________________________________________\n",
      "dropout_1 (Dropout)          (None, 8, 8, 16)          0         \n",
      "_________________________________________________________________\n",
      "conv2d_2 (Conv2D)            (None, 8, 8, 36)          46692     \n",
      "_________________________________________________________________\n",
      "max_pooling2d_2 (MaxPooling2 (None, 4, 4, 36)          0         \n",
      "_________________________________________________________________\n",
      "batch_normalization_v1_2 (Ba (None, 4, 4, 36)          144       \n",
      "_________________________________________________________________\n",
      "dropout_2 (Dropout)          (None, 4, 4, 36)          0         \n",
      "_________________________________________________________________\n",
      "flatten (Flatten)            (None, 576)               0         \n",
      "_________________________________________________________________\n",
      "dense (Dense)                (None, 512)               295424    \n",
      "_________________________________________________________________\n",
      "batch_normalization_v1_3 (Ba (None, 512)               2048      \n",
      "_________________________________________________________________\n",
      "dropout_3 (Dropout)          (None, 512)               0         \n",
      "_________________________________________________________________\n",
      "dense_1 (Dense)              (None, 1)                 513       \n",
      "=================================================================\n",
      "Total params: 369,605\n",
      "Trainable params: 368,445\n",
      "Non-trainable params: 1,160\n",
      "_________________________________________________________________\n"
     ]
    }
   ],
   "source": [
    "model = tf.keras.Sequential()\n",
    "\n",
    "# Must define the input shape in the first layer of the neural network\n",
    "model.add(tf.keras.layers.Conv2D(filters=16,kernel_size=9, padding='same', activation='relu', input_shape=(32,32,3))) \n",
    "model.add(tf.keras.layers.MaxPooling2D(pool_size=2))\n",
    "model.add(tf.keras.layers.BatchNormalization())\n",
    "model.add(tf.keras.layers.Dropout(0.25))\n",
    "\n",
    "model.add(tf.keras.layers.Conv2D(filters=16,kernel_size=9,padding='same', activation='relu'))\n",
    "model.add(tf.keras.layers.BatchNormalization())\n",
    "model.add(tf.keras.layers.MaxPooling2D(pool_size=2))\n",
    "model.add(tf.keras.layers.Dropout(0.25))\n",
    "\n",
    "model.add(tf.keras.layers.Conv2D(filters=36, kernel_size=9, padding='same', activation='relu'))\n",
    "model.add(tf.keras.layers.MaxPooling2D(pool_size=2))\n",
    "model.add(tf.keras.layers.BatchNormalization())\n",
    "model.add(tf.keras.layers.Dropout(0.25))\n",
    "\n",
    "model.add(tf.keras.layers.Flatten())\n",
    "\n",
    "\n",
    "\n",
    "model.add(tf.keras.layers.Dense(512, activation='relu'))\n",
    "model.add(tf.keras.layers.BatchNormalization())\n",
    "model.add(tf.keras.layers.Dropout(0.25))\n",
    "\n",
    "\n",
    "model.add(tf.keras.layers.Dense(1, activation='sigmoid'))\n",
    "\n",
    "\n",
    "\n",
    "# Take a look at the model summary\n",
    "model.summary()"
   ]
  },
  {
   "cell_type": "code",
   "execution_count": 19,
   "metadata": {},
   "outputs": [],
   "source": [
    "model.compile(loss='binary_crossentropy',\n",
    "             optimizer=tf.keras.optimizers.Adam(),\n",
    "             metrics=['acc'])\n"
   ]
  },
  {
   "cell_type": "code",
   "execution_count": 20,
   "metadata": {},
   "outputs": [
    {
     "name": "stdout",
     "output_type": "stream",
     "text": [
      "Train on 190 samples, validate on 63 samples\n",
      "WARNING:tensorflow:From /opt/conda/lib/python3.6/site-packages/tensorflow/python/ops/math_ops.py:3066: to_int32 (from tensorflow.python.ops.math_ops) is deprecated and will be removed in a future version.\n",
      "Instructions for updating:\n",
      "Use tf.cast instead.\n",
      "Epoch 1/50\n",
      "190/190 [==============================] - 2s 11ms/sample - loss: 0.9095 - acc: 0.5211 - val_loss: 0.7123 - val_acc: 0.1111\n",
      "Epoch 2/50\n",
      "190/190 [==============================] - 1s 4ms/sample - loss: 0.7374 - acc: 0.6158 - val_loss: 0.7167 - val_acc: 0.0794\n",
      "Epoch 3/50\n",
      "190/190 [==============================] - 1s 4ms/sample - loss: 0.6860 - acc: 0.6316 - val_loss: 0.7271 - val_acc: 0.0159\n",
      "Epoch 4/50\n",
      "190/190 [==============================] - 1s 4ms/sample - loss: 0.6418 - acc: 0.6474 - val_loss: 0.7548 - val_acc: 0.0000e+00\n",
      "Epoch 5/50\n",
      "190/190 [==============================] - 1s 4ms/sample - loss: 0.6539 - acc: 0.6737 - val_loss: 0.7580 - val_acc: 0.0000e+00\n",
      "Epoch 6/50\n",
      "190/190 [==============================] - 1s 4ms/sample - loss: 0.5699 - acc: 0.6947 - val_loss: 0.7764 - val_acc: 0.0000e+00\n",
      "Epoch 7/50\n",
      "190/190 [==============================] - 1s 4ms/sample - loss: 0.6177 - acc: 0.6895 - val_loss: 0.8728 - val_acc: 0.0000e+00\n",
      "Epoch 8/50\n",
      "190/190 [==============================] - 1s 4ms/sample - loss: 0.5649 - acc: 0.7316 - val_loss: 0.9127 - val_acc: 0.0000e+00\n",
      "Epoch 9/50\n",
      "190/190 [==============================] - 1s 4ms/sample - loss: 0.5531 - acc: 0.7211 - val_loss: 0.9284 - val_acc: 0.0000e+00\n",
      "Epoch 10/50\n",
      "190/190 [==============================] - 1s 4ms/sample - loss: 0.4745 - acc: 0.7684 - val_loss: 0.9811 - val_acc: 0.0000e+00\n",
      "Epoch 11/50\n",
      "190/190 [==============================] - 1s 4ms/sample - loss: 0.4521 - acc: 0.7842 - val_loss: 1.0244 - val_acc: 0.0000e+00\n",
      "Epoch 12/50\n",
      "190/190 [==============================] - 1s 4ms/sample - loss: 0.4715 - acc: 0.7579 - val_loss: 1.0654 - val_acc: 0.0000e+00\n",
      "Epoch 13/50\n",
      "190/190 [==============================] - 1s 4ms/sample - loss: 0.4137 - acc: 0.8368 - val_loss: 1.0968 - val_acc: 0.0000e+00\n",
      "Epoch 14/50\n",
      "190/190 [==============================] - 1s 4ms/sample - loss: 0.3775 - acc: 0.8263 - val_loss: 1.0972 - val_acc: 0.0000e+00\n",
      "Epoch 15/50\n",
      "190/190 [==============================] - 1s 4ms/sample - loss: 0.3591 - acc: 0.8474 - val_loss: 1.0819 - val_acc: 0.0000e+00\n",
      "Epoch 16/50\n",
      "190/190 [==============================] - 1s 4ms/sample - loss: 0.3215 - acc: 0.8474 - val_loss: 1.0980 - val_acc: 0.0000e+00\n",
      "Epoch 17/50\n",
      "190/190 [==============================] - 1s 4ms/sample - loss: 0.2971 - acc: 0.8895 - val_loss: 1.1236 - val_acc: 0.0000e+00\n",
      "Epoch 18/50\n",
      "190/190 [==============================] - 1s 4ms/sample - loss: 0.3172 - acc: 0.8474 - val_loss: 1.1721 - val_acc: 0.0000e+00\n",
      "Epoch 19/50\n",
      "190/190 [==============================] - 1s 4ms/sample - loss: 0.2715 - acc: 0.9000 - val_loss: 1.1652 - val_acc: 0.0000e+00\n",
      "Epoch 20/50\n",
      "190/190 [==============================] - 1s 4ms/sample - loss: 0.2491 - acc: 0.8947 - val_loss: 1.2097 - val_acc: 0.0000e+00\n",
      "Epoch 21/50\n",
      "190/190 [==============================] - 1s 4ms/sample - loss: 0.2217 - acc: 0.9105 - val_loss: 1.2690 - val_acc: 0.0000e+00\n",
      "Epoch 22/50\n",
      "190/190 [==============================] - 1s 4ms/sample - loss: 0.2105 - acc: 0.9000 - val_loss: 1.2474 - val_acc: 0.0000e+00\n",
      "Epoch 23/50\n",
      "190/190 [==============================] - 1s 4ms/sample - loss: 0.2053 - acc: 0.9263 - val_loss: 1.1206 - val_acc: 0.0159\n",
      "Epoch 24/50\n",
      "190/190 [==============================] - 1s 4ms/sample - loss: 0.1599 - acc: 0.9526 - val_loss: 0.9526 - val_acc: 0.2222\n",
      "Epoch 25/50\n",
      "190/190 [==============================] - 1s 4ms/sample - loss: 0.2196 - acc: 0.9316 - val_loss: 0.8754 - val_acc: 0.3016\n",
      "Epoch 26/50\n",
      "190/190 [==============================] - 1s 4ms/sample - loss: 0.1620 - acc: 0.9737 - val_loss: 0.9207 - val_acc: 0.2857\n",
      "Epoch 27/50\n",
      "190/190 [==============================] - 1s 4ms/sample - loss: 0.1338 - acc: 0.9684 - val_loss: 1.0293 - val_acc: 0.1905\n",
      "Epoch 28/50\n",
      "190/190 [==============================] - 1s 4ms/sample - loss: 0.1675 - acc: 0.9421 - val_loss: 1.1143 - val_acc: 0.1905\n",
      "Epoch 29/50\n",
      "190/190 [==============================] - 1s 4ms/sample - loss: 0.1205 - acc: 0.9632 - val_loss: 1.0627 - val_acc: 0.2698\n",
      "Epoch 30/50\n",
      "190/190 [==============================] - 1s 4ms/sample - loss: 0.1222 - acc: 0.9526 - val_loss: 0.9453 - val_acc: 0.4286\n",
      "Epoch 31/50\n",
      "190/190 [==============================] - 1s 4ms/sample - loss: 0.1243 - acc: 0.9789 - val_loss: 0.7780 - val_acc: 0.5397\n",
      "Epoch 32/50\n",
      "190/190 [==============================] - 1s 4ms/sample - loss: 0.1136 - acc: 0.9789 - val_loss: 0.6754 - val_acc: 0.6508\n",
      "Epoch 33/50\n",
      "190/190 [==============================] - 1s 4ms/sample - loss: 0.1349 - acc: 0.9579 - val_loss: 0.5695 - val_acc: 0.6825\n",
      "Epoch 34/50\n",
      "190/190 [==============================] - 1s 4ms/sample - loss: 0.1324 - acc: 0.9579 - val_loss: 0.4765 - val_acc: 0.8095\n",
      "Epoch 35/50\n",
      "190/190 [==============================] - 1s 4ms/sample - loss: 0.1023 - acc: 0.9737 - val_loss: 0.4087 - val_acc: 0.8095\n",
      "Epoch 36/50\n",
      "190/190 [==============================] - 1s 4ms/sample - loss: 0.0928 - acc: 0.9684 - val_loss: 0.4164 - val_acc: 0.8095\n",
      "Epoch 37/50\n",
      "190/190 [==============================] - 1s 4ms/sample - loss: 0.0940 - acc: 0.9684 - val_loss: 0.4609 - val_acc: 0.7778\n",
      "Epoch 38/50\n",
      "190/190 [==============================] - 1s 4ms/sample - loss: 0.0784 - acc: 0.9737 - val_loss: 0.5196 - val_acc: 0.7143\n",
      "Epoch 39/50\n",
      "190/190 [==============================] - 1s 4ms/sample - loss: 0.0932 - acc: 0.9737 - val_loss: 0.5127 - val_acc: 0.7460\n",
      "Epoch 40/50\n",
      "190/190 [==============================] - 1s 4ms/sample - loss: 0.0812 - acc: 0.9737 - val_loss: 0.5307 - val_acc: 0.7460\n",
      "Epoch 41/50\n",
      "190/190 [==============================] - 1s 4ms/sample - loss: 0.0819 - acc: 0.9789 - val_loss: 0.5317 - val_acc: 0.7302\n",
      "Epoch 42/50\n",
      "190/190 [==============================] - 1s 4ms/sample - loss: 0.0764 - acc: 0.9789 - val_loss: 0.4362 - val_acc: 0.8254\n",
      "Epoch 43/50\n",
      "190/190 [==============================] - 1s 4ms/sample - loss: 0.0476 - acc: 1.0000 - val_loss: 0.3725 - val_acc: 0.8254\n",
      "Epoch 44/50\n",
      "190/190 [==============================] - 1s 4ms/sample - loss: 0.0562 - acc: 0.9947 - val_loss: 0.3485 - val_acc: 0.8254\n",
      "Epoch 45/50\n",
      "190/190 [==============================] - 1s 4ms/sample - loss: 0.0628 - acc: 0.9789 - val_loss: 0.2892 - val_acc: 0.8413\n",
      "Epoch 46/50\n",
      "190/190 [==============================] - 1s 4ms/sample - loss: 0.0605 - acc: 0.9789 - val_loss: 0.2069 - val_acc: 0.9365\n",
      "Epoch 47/50\n",
      "190/190 [==============================] - 1s 4ms/sample - loss: 0.0457 - acc: 0.9895 - val_loss: 0.1509 - val_acc: 0.9524\n",
      "Epoch 48/50\n",
      "190/190 [==============================] - 1s 4ms/sample - loss: 0.0783 - acc: 0.9737 - val_loss: 0.1172 - val_acc: 0.9524\n",
      "Epoch 49/50\n",
      "190/190 [==============================] - 1s 4ms/sample - loss: 0.0430 - acc: 0.9842 - val_loss: 0.1182 - val_acc: 0.9524\n",
      "Epoch 50/50\n",
      "190/190 [==============================] - 1s 4ms/sample - loss: 0.0288 - acc: 1.0000 - val_loss: 0.1358 - val_acc: 0.9524\n"
     ]
    }
   ],
   "source": [
    "history = model.fit(x_train,\n",
    "         y_train,\n",
    "         batch_size=128,\n",
    "         epochs=50,\n",
    "         validation_data=(x_valid, y_valid),)\n"
   ]
  },
  {
   "cell_type": "code",
   "execution_count": 21,
   "metadata": {},
   "outputs": [
    {
     "data": {
      "image/svg+xml": [
       "<svg height=\"1456pt\" viewBox=\"0.00 0.00 477.00 1456.00\" width=\"477pt\" xmlns=\"http://www.w3.org/2000/svg\" xmlns:xlink=\"http://www.w3.org/1999/xlink\">\n",
       "<g class=\"graph\" id=\"graph0\" transform=\"scale(1 1) rotate(0) translate(4 1452)\">\n",
       "<title>G</title>\n",
       "<polygon fill=\"white\" points=\"-4,4 -4,-1452 473,-1452 473,4 -4,4\" stroke=\"none\"/>\n",
       "<!-- 139887897908224 -->\n",
       "<g class=\"node\" id=\"node1\"><title>139887897908224</title>\n",
       "<polygon fill=\"none\" points=\"93,-1328.5 93,-1374.5 376,-1374.5 376,-1328.5 93,-1328.5\" stroke=\"black\"/>\n",
       "<text font-family=\"Times,serif\" font-size=\"14.00\" text-anchor=\"middle\" x=\"148\" y=\"-1347.8\">conv2d: Conv2D</text>\n",
       "<polyline fill=\"none\" points=\"203,-1328.5 203,-1374.5 \" stroke=\"black\"/>\n",
       "<text font-family=\"Times,serif\" font-size=\"14.00\" text-anchor=\"middle\" x=\"230.5\" y=\"-1359.3\">input:</text>\n",
       "<polyline fill=\"none\" points=\"203,-1351.5 258,-1351.5 \" stroke=\"black\"/>\n",
       "<text font-family=\"Times,serif\" font-size=\"14.00\" text-anchor=\"middle\" x=\"230.5\" y=\"-1336.3\">output:</text>\n",
       "<polyline fill=\"none\" points=\"258,-1328.5 258,-1374.5 \" stroke=\"black\"/>\n",
       "<text font-family=\"Times,serif\" font-size=\"14.00\" text-anchor=\"middle\" x=\"317\" y=\"-1359.3\">(None, 32, 32, 3)</text>\n",
       "<polyline fill=\"none\" points=\"258,-1351.5 376,-1351.5 \" stroke=\"black\"/>\n",
       "<text font-family=\"Times,serif\" font-size=\"14.00\" text-anchor=\"middle\" x=\"317\" y=\"-1336.3\">(None, 32, 32, 16)</text>\n",
       "</g>\n",
       "<!-- 139887897909232 -->\n",
       "<g class=\"node\" id=\"node2\"><title>139887897909232</title>\n",
       "<polygon fill=\"none\" points=\"51,-1245.5 51,-1291.5 418,-1291.5 418,-1245.5 51,-1245.5\" stroke=\"black\"/>\n",
       "<text font-family=\"Times,serif\" font-size=\"14.00\" text-anchor=\"middle\" x=\"148\" y=\"-1264.8\">max_pooling2d: MaxPooling2D</text>\n",
       "<polyline fill=\"none\" points=\"245,-1245.5 245,-1291.5 \" stroke=\"black\"/>\n",
       "<text font-family=\"Times,serif\" font-size=\"14.00\" text-anchor=\"middle\" x=\"272.5\" y=\"-1276.3\">input:</text>\n",
       "<polyline fill=\"none\" points=\"245,-1268.5 300,-1268.5 \" stroke=\"black\"/>\n",
       "<text font-family=\"Times,serif\" font-size=\"14.00\" text-anchor=\"middle\" x=\"272.5\" y=\"-1253.3\">output:</text>\n",
       "<polyline fill=\"none\" points=\"300,-1245.5 300,-1291.5 \" stroke=\"black\"/>\n",
       "<text font-family=\"Times,serif\" font-size=\"14.00\" text-anchor=\"middle\" x=\"359\" y=\"-1276.3\">(None, 32, 32, 16)</text>\n",
       "<polyline fill=\"none\" points=\"300,-1268.5 418,-1268.5 \" stroke=\"black\"/>\n",
       "<text font-family=\"Times,serif\" font-size=\"14.00\" text-anchor=\"middle\" x=\"359\" y=\"-1253.3\">(None, 16, 16, 16)</text>\n",
       "</g>\n",
       "<!-- 139887897908224&#45;&gt;139887897909232 -->\n",
       "<g class=\"edge\" id=\"edge2\"><title>139887897908224-&gt;139887897909232</title>\n",
       "<path d=\"M234.5,-1328.37C234.5,-1320.15 234.5,-1310.66 234.5,-1301.73\" fill=\"none\" stroke=\"black\"/>\n",
       "<polygon fill=\"black\" points=\"238,-1301.61 234.5,-1291.61 231,-1301.61 238,-1301.61\" stroke=\"black\"/>\n",
       "</g>\n",
       "<!-- 139887897909064 -->\n",
       "<g class=\"node\" id=\"node3\"><title>139887897909064</title>\n",
       "<polygon fill=\"none\" points=\"6.5,-1162.5 6.5,-1208.5 462.5,-1208.5 462.5,-1162.5 6.5,-1162.5\" stroke=\"black\"/>\n",
       "<text font-family=\"Times,serif\" font-size=\"14.00\" text-anchor=\"middle\" x=\"148\" y=\"-1181.8\">batch_normalization_v1: BatchNormalizationV1</text>\n",
       "<polyline fill=\"none\" points=\"289.5,-1162.5 289.5,-1208.5 \" stroke=\"black\"/>\n",
       "<text font-family=\"Times,serif\" font-size=\"14.00\" text-anchor=\"middle\" x=\"317\" y=\"-1193.3\">input:</text>\n",
       "<polyline fill=\"none\" points=\"289.5,-1185.5 344.5,-1185.5 \" stroke=\"black\"/>\n",
       "<text font-family=\"Times,serif\" font-size=\"14.00\" text-anchor=\"middle\" x=\"317\" y=\"-1170.3\">output:</text>\n",
       "<polyline fill=\"none\" points=\"344.5,-1162.5 344.5,-1208.5 \" stroke=\"black\"/>\n",
       "<text font-family=\"Times,serif\" font-size=\"14.00\" text-anchor=\"middle\" x=\"403.5\" y=\"-1193.3\">(None, 16, 16, 16)</text>\n",
       "<polyline fill=\"none\" points=\"344.5,-1185.5 462.5,-1185.5 \" stroke=\"black\"/>\n",
       "<text font-family=\"Times,serif\" font-size=\"14.00\" text-anchor=\"middle\" x=\"403.5\" y=\"-1170.3\">(None, 16, 16, 16)</text>\n",
       "</g>\n",
       "<!-- 139887897909232&#45;&gt;139887897909064 -->\n",
       "<g class=\"edge\" id=\"edge3\"><title>139887897909232-&gt;139887897909064</title>\n",
       "<path d=\"M234.5,-1245.37C234.5,-1237.15 234.5,-1227.66 234.5,-1218.73\" fill=\"none\" stroke=\"black\"/>\n",
       "<polygon fill=\"black\" points=\"238,-1218.61 234.5,-1208.61 231,-1218.61 238,-1218.61\" stroke=\"black\"/>\n",
       "</g>\n",
       "<!-- 139887897910128 -->\n",
       "<g class=\"node\" id=\"node4\"><title>139887897910128</title>\n",
       "<polygon fill=\"none\" points=\"92.5,-1079.5 92.5,-1125.5 376.5,-1125.5 376.5,-1079.5 92.5,-1079.5\" stroke=\"black\"/>\n",
       "<text font-family=\"Times,serif\" font-size=\"14.00\" text-anchor=\"middle\" x=\"148\" y=\"-1098.8\">dropout: Dropout</text>\n",
       "<polyline fill=\"none\" points=\"203.5,-1079.5 203.5,-1125.5 \" stroke=\"black\"/>\n",
       "<text font-family=\"Times,serif\" font-size=\"14.00\" text-anchor=\"middle\" x=\"231\" y=\"-1110.3\">input:</text>\n",
       "<polyline fill=\"none\" points=\"203.5,-1102.5 258.5,-1102.5 \" stroke=\"black\"/>\n",
       "<text font-family=\"Times,serif\" font-size=\"14.00\" text-anchor=\"middle\" x=\"231\" y=\"-1087.3\">output:</text>\n",
       "<polyline fill=\"none\" points=\"258.5,-1079.5 258.5,-1125.5 \" stroke=\"black\"/>\n",
       "<text font-family=\"Times,serif\" font-size=\"14.00\" text-anchor=\"middle\" x=\"317.5\" y=\"-1110.3\">(None, 16, 16, 16)</text>\n",
       "<polyline fill=\"none\" points=\"258.5,-1102.5 376.5,-1102.5 \" stroke=\"black\"/>\n",
       "<text font-family=\"Times,serif\" font-size=\"14.00\" text-anchor=\"middle\" x=\"317.5\" y=\"-1087.3\">(None, 16, 16, 16)</text>\n",
       "</g>\n",
       "<!-- 139887897909064&#45;&gt;139887897910128 -->\n",
       "<g class=\"edge\" id=\"edge4\"><title>139887897909064-&gt;139887897910128</title>\n",
       "<path d=\"M234.5,-1162.37C234.5,-1154.15 234.5,-1144.66 234.5,-1135.73\" fill=\"none\" stroke=\"black\"/>\n",
       "<polygon fill=\"black\" points=\"238,-1135.61 234.5,-1125.61 231,-1135.61 238,-1135.61\" stroke=\"black\"/>\n",
       "</g>\n",
       "<!-- 139887889141488 -->\n",
       "<g class=\"node\" id=\"node5\"><title>139887889141488</title>\n",
       "<polygon fill=\"none\" points=\"86.5,-996.5 86.5,-1042.5 382.5,-1042.5 382.5,-996.5 86.5,-996.5\" stroke=\"black\"/>\n",
       "<text font-family=\"Times,serif\" font-size=\"14.00\" text-anchor=\"middle\" x=\"148\" y=\"-1015.8\">conv2d_1: Conv2D</text>\n",
       "<polyline fill=\"none\" points=\"209.5,-996.5 209.5,-1042.5 \" stroke=\"black\"/>\n",
       "<text font-family=\"Times,serif\" font-size=\"14.00\" text-anchor=\"middle\" x=\"237\" y=\"-1027.3\">input:</text>\n",
       "<polyline fill=\"none\" points=\"209.5,-1019.5 264.5,-1019.5 \" stroke=\"black\"/>\n",
       "<text font-family=\"Times,serif\" font-size=\"14.00\" text-anchor=\"middle\" x=\"237\" y=\"-1004.3\">output:</text>\n",
       "<polyline fill=\"none\" points=\"264.5,-996.5 264.5,-1042.5 \" stroke=\"black\"/>\n",
       "<text font-family=\"Times,serif\" font-size=\"14.00\" text-anchor=\"middle\" x=\"323.5\" y=\"-1027.3\">(None, 16, 16, 16)</text>\n",
       "<polyline fill=\"none\" points=\"264.5,-1019.5 382.5,-1019.5 \" stroke=\"black\"/>\n",
       "<text font-family=\"Times,serif\" font-size=\"14.00\" text-anchor=\"middle\" x=\"323.5\" y=\"-1004.3\">(None, 16, 16, 16)</text>\n",
       "</g>\n",
       "<!-- 139887897910128&#45;&gt;139887889141488 -->\n",
       "<g class=\"edge\" id=\"edge5\"><title>139887897910128-&gt;139887889141488</title>\n",
       "<path d=\"M234.5,-1079.37C234.5,-1071.15 234.5,-1061.66 234.5,-1052.73\" fill=\"none\" stroke=\"black\"/>\n",
       "<polygon fill=\"black\" points=\"238,-1052.61 234.5,-1042.61 231,-1052.61 238,-1052.61\" stroke=\"black\"/>\n",
       "</g>\n",
       "<!-- 139887889310272 -->\n",
       "<g class=\"node\" id=\"node6\"><title>139887889310272</title>\n",
       "<polygon fill=\"none\" points=\"-2.84217e-14,-913.5 -2.84217e-14,-959.5 469,-959.5 469,-913.5 -2.84217e-14,-913.5\" stroke=\"black\"/>\n",
       "<text font-family=\"Times,serif\" font-size=\"14.00\" text-anchor=\"middle\" x=\"148\" y=\"-932.8\">batch_normalization_v1_1: BatchNormalizationV1</text>\n",
       "<polyline fill=\"none\" points=\"296,-913.5 296,-959.5 \" stroke=\"black\"/>\n",
       "<text font-family=\"Times,serif\" font-size=\"14.00\" text-anchor=\"middle\" x=\"323.5\" y=\"-944.3\">input:</text>\n",
       "<polyline fill=\"none\" points=\"296,-936.5 351,-936.5 \" stroke=\"black\"/>\n",
       "<text font-family=\"Times,serif\" font-size=\"14.00\" text-anchor=\"middle\" x=\"323.5\" y=\"-921.3\">output:</text>\n",
       "<polyline fill=\"none\" points=\"351,-913.5 351,-959.5 \" stroke=\"black\"/>\n",
       "<text font-family=\"Times,serif\" font-size=\"14.00\" text-anchor=\"middle\" x=\"410\" y=\"-944.3\">(None, 16, 16, 16)</text>\n",
       "<polyline fill=\"none\" points=\"351,-936.5 469,-936.5 \" stroke=\"black\"/>\n",
       "<text font-family=\"Times,serif\" font-size=\"14.00\" text-anchor=\"middle\" x=\"410\" y=\"-921.3\">(None, 16, 16, 16)</text>\n",
       "</g>\n",
       "<!-- 139887889141488&#45;&gt;139887889310272 -->\n",
       "<g class=\"edge\" id=\"edge6\"><title>139887889141488-&gt;139887889310272</title>\n",
       "<path d=\"M234.5,-996.366C234.5,-988.152 234.5,-978.658 234.5,-969.725\" fill=\"none\" stroke=\"black\"/>\n",
       "<polygon fill=\"black\" points=\"238,-969.607 234.5,-959.607 231,-969.607 238,-969.607\" stroke=\"black\"/>\n",
       "</g>\n",
       "<!-- 139887888780536 -->\n",
       "<g class=\"node\" id=\"node7\"><title>139887888780536</title>\n",
       "<polygon fill=\"none\" points=\"44.5,-830.5 44.5,-876.5 424.5,-876.5 424.5,-830.5 44.5,-830.5\" stroke=\"black\"/>\n",
       "<text font-family=\"Times,serif\" font-size=\"14.00\" text-anchor=\"middle\" x=\"148\" y=\"-849.8\">max_pooling2d_1: MaxPooling2D</text>\n",
       "<polyline fill=\"none\" points=\"251.5,-830.5 251.5,-876.5 \" stroke=\"black\"/>\n",
       "<text font-family=\"Times,serif\" font-size=\"14.00\" text-anchor=\"middle\" x=\"279\" y=\"-861.3\">input:</text>\n",
       "<polyline fill=\"none\" points=\"251.5,-853.5 306.5,-853.5 \" stroke=\"black\"/>\n",
       "<text font-family=\"Times,serif\" font-size=\"14.00\" text-anchor=\"middle\" x=\"279\" y=\"-838.3\">output:</text>\n",
       "<polyline fill=\"none\" points=\"306.5,-830.5 306.5,-876.5 \" stroke=\"black\"/>\n",
       "<text font-family=\"Times,serif\" font-size=\"14.00\" text-anchor=\"middle\" x=\"365.5\" y=\"-861.3\">(None, 16, 16, 16)</text>\n",
       "<polyline fill=\"none\" points=\"306.5,-853.5 424.5,-853.5 \" stroke=\"black\"/>\n",
       "<text font-family=\"Times,serif\" font-size=\"14.00\" text-anchor=\"middle\" x=\"365.5\" y=\"-838.3\">(None, 8, 8, 16)</text>\n",
       "</g>\n",
       "<!-- 139887889310272&#45;&gt;139887888780536 -->\n",
       "<g class=\"edge\" id=\"edge7\"><title>139887889310272-&gt;139887888780536</title>\n",
       "<path d=\"M234.5,-913.366C234.5,-905.152 234.5,-895.658 234.5,-886.725\" fill=\"none\" stroke=\"black\"/>\n",
       "<polygon fill=\"black\" points=\"238,-886.607 234.5,-876.607 231,-886.607 238,-886.607\" stroke=\"black\"/>\n",
       "</g>\n",
       "<!-- 139887888779696 -->\n",
       "<g class=\"node\" id=\"node8\"><title>139887888779696</title>\n",
       "<polygon fill=\"none\" points=\"92.5,-747.5 92.5,-793.5 376.5,-793.5 376.5,-747.5 92.5,-747.5\" stroke=\"black\"/>\n",
       "<text font-family=\"Times,serif\" font-size=\"14.00\" text-anchor=\"middle\" x=\"155\" y=\"-766.8\">dropout_1: Dropout</text>\n",
       "<polyline fill=\"none\" points=\"217.5,-747.5 217.5,-793.5 \" stroke=\"black\"/>\n",
       "<text font-family=\"Times,serif\" font-size=\"14.00\" text-anchor=\"middle\" x=\"245\" y=\"-778.3\">input:</text>\n",
       "<polyline fill=\"none\" points=\"217.5,-770.5 272.5,-770.5 \" stroke=\"black\"/>\n",
       "<text font-family=\"Times,serif\" font-size=\"14.00\" text-anchor=\"middle\" x=\"245\" y=\"-755.3\">output:</text>\n",
       "<polyline fill=\"none\" points=\"272.5,-747.5 272.5,-793.5 \" stroke=\"black\"/>\n",
       "<text font-family=\"Times,serif\" font-size=\"14.00\" text-anchor=\"middle\" x=\"324.5\" y=\"-778.3\">(None, 8, 8, 16)</text>\n",
       "<polyline fill=\"none\" points=\"272.5,-770.5 376.5,-770.5 \" stroke=\"black\"/>\n",
       "<text font-family=\"Times,serif\" font-size=\"14.00\" text-anchor=\"middle\" x=\"324.5\" y=\"-755.3\">(None, 8, 8, 16)</text>\n",
       "</g>\n",
       "<!-- 139887888780536&#45;&gt;139887888779696 -->\n",
       "<g class=\"edge\" id=\"edge8\"><title>139887888780536-&gt;139887888779696</title>\n",
       "<path d=\"M234.5,-830.366C234.5,-822.152 234.5,-812.658 234.5,-803.725\" fill=\"none\" stroke=\"black\"/>\n",
       "<polygon fill=\"black\" points=\"238,-803.607 234.5,-793.607 231,-803.607 238,-803.607\" stroke=\"black\"/>\n",
       "</g>\n",
       "<!-- 139887888117712 -->\n",
       "<g class=\"node\" id=\"node9\"><title>139887888117712</title>\n",
       "<polygon fill=\"none\" points=\"93.5,-664.5 93.5,-710.5 375.5,-710.5 375.5,-664.5 93.5,-664.5\" stroke=\"black\"/>\n",
       "<text font-family=\"Times,serif\" font-size=\"14.00\" text-anchor=\"middle\" x=\"155\" y=\"-683.8\">conv2d_2: Conv2D</text>\n",
       "<polyline fill=\"none\" points=\"216.5,-664.5 216.5,-710.5 \" stroke=\"black\"/>\n",
       "<text font-family=\"Times,serif\" font-size=\"14.00\" text-anchor=\"middle\" x=\"244\" y=\"-695.3\">input:</text>\n",
       "<polyline fill=\"none\" points=\"216.5,-687.5 271.5,-687.5 \" stroke=\"black\"/>\n",
       "<text font-family=\"Times,serif\" font-size=\"14.00\" text-anchor=\"middle\" x=\"244\" y=\"-672.3\">output:</text>\n",
       "<polyline fill=\"none\" points=\"271.5,-664.5 271.5,-710.5 \" stroke=\"black\"/>\n",
       "<text font-family=\"Times,serif\" font-size=\"14.00\" text-anchor=\"middle\" x=\"323.5\" y=\"-695.3\">(None, 8, 8, 16)</text>\n",
       "<polyline fill=\"none\" points=\"271.5,-687.5 375.5,-687.5 \" stroke=\"black\"/>\n",
       "<text font-family=\"Times,serif\" font-size=\"14.00\" text-anchor=\"middle\" x=\"323.5\" y=\"-672.3\">(None, 8, 8, 36)</text>\n",
       "</g>\n",
       "<!-- 139887888779696&#45;&gt;139887888117712 -->\n",
       "<g class=\"edge\" id=\"edge9\"><title>139887888779696-&gt;139887888117712</title>\n",
       "<path d=\"M234.5,-747.366C234.5,-739.152 234.5,-729.658 234.5,-720.725\" fill=\"none\" stroke=\"black\"/>\n",
       "<polygon fill=\"black\" points=\"238,-720.607 234.5,-710.607 231,-720.607 238,-720.607\" stroke=\"black\"/>\n",
       "</g>\n",
       "<!-- 139887888242896 -->\n",
       "<g class=\"node\" id=\"node10\"><title>139887888242896</title>\n",
       "<polygon fill=\"none\" points=\"51.5,-581.5 51.5,-627.5 417.5,-627.5 417.5,-581.5 51.5,-581.5\" stroke=\"black\"/>\n",
       "<text font-family=\"Times,serif\" font-size=\"14.00\" text-anchor=\"middle\" x=\"155\" y=\"-600.8\">max_pooling2d_2: MaxPooling2D</text>\n",
       "<polyline fill=\"none\" points=\"258.5,-581.5 258.5,-627.5 \" stroke=\"black\"/>\n",
       "<text font-family=\"Times,serif\" font-size=\"14.00\" text-anchor=\"middle\" x=\"286\" y=\"-612.3\">input:</text>\n",
       "<polyline fill=\"none\" points=\"258.5,-604.5 313.5,-604.5 \" stroke=\"black\"/>\n",
       "<text font-family=\"Times,serif\" font-size=\"14.00\" text-anchor=\"middle\" x=\"286\" y=\"-589.3\">output:</text>\n",
       "<polyline fill=\"none\" points=\"313.5,-581.5 313.5,-627.5 \" stroke=\"black\"/>\n",
       "<text font-family=\"Times,serif\" font-size=\"14.00\" text-anchor=\"middle\" x=\"365.5\" y=\"-612.3\">(None, 8, 8, 36)</text>\n",
       "<polyline fill=\"none\" points=\"313.5,-604.5 417.5,-604.5 \" stroke=\"black\"/>\n",
       "<text font-family=\"Times,serif\" font-size=\"14.00\" text-anchor=\"middle\" x=\"365.5\" y=\"-589.3\">(None, 4, 4, 36)</text>\n",
       "</g>\n",
       "<!-- 139887888117712&#45;&gt;139887888242896 -->\n",
       "<g class=\"edge\" id=\"edge10\"><title>139887888117712-&gt;139887888242896</title>\n",
       "<path d=\"M234.5,-664.366C234.5,-656.152 234.5,-646.658 234.5,-637.725\" fill=\"none\" stroke=\"black\"/>\n",
       "<polygon fill=\"black\" points=\"238,-637.607 234.5,-627.607 231,-637.607 238,-637.607\" stroke=\"black\"/>\n",
       "</g>\n",
       "<!-- 139887888382048 -->\n",
       "<g class=\"node\" id=\"node11\"><title>139887888382048</title>\n",
       "<polygon fill=\"none\" points=\"7,-498.5 7,-544.5 462,-544.5 462,-498.5 7,-498.5\" stroke=\"black\"/>\n",
       "<text font-family=\"Times,serif\" font-size=\"14.00\" text-anchor=\"middle\" x=\"155\" y=\"-517.8\">batch_normalization_v1_2: BatchNormalizationV1</text>\n",
       "<polyline fill=\"none\" points=\"303,-498.5 303,-544.5 \" stroke=\"black\"/>\n",
       "<text font-family=\"Times,serif\" font-size=\"14.00\" text-anchor=\"middle\" x=\"330.5\" y=\"-529.3\">input:</text>\n",
       "<polyline fill=\"none\" points=\"303,-521.5 358,-521.5 \" stroke=\"black\"/>\n",
       "<text font-family=\"Times,serif\" font-size=\"14.00\" text-anchor=\"middle\" x=\"330.5\" y=\"-506.3\">output:</text>\n",
       "<polyline fill=\"none\" points=\"358,-498.5 358,-544.5 \" stroke=\"black\"/>\n",
       "<text font-family=\"Times,serif\" font-size=\"14.00\" text-anchor=\"middle\" x=\"410\" y=\"-529.3\">(None, 4, 4, 36)</text>\n",
       "<polyline fill=\"none\" points=\"358,-521.5 462,-521.5 \" stroke=\"black\"/>\n",
       "<text font-family=\"Times,serif\" font-size=\"14.00\" text-anchor=\"middle\" x=\"410\" y=\"-506.3\">(None, 4, 4, 36)</text>\n",
       "</g>\n",
       "<!-- 139887888242896&#45;&gt;139887888382048 -->\n",
       "<g class=\"edge\" id=\"edge11\"><title>139887888242896-&gt;139887888382048</title>\n",
       "<path d=\"M234.5,-581.366C234.5,-573.152 234.5,-563.658 234.5,-554.725\" fill=\"none\" stroke=\"black\"/>\n",
       "<polygon fill=\"black\" points=\"238,-554.607 234.5,-544.607 231,-554.607 238,-554.607\" stroke=\"black\"/>\n",
       "</g>\n",
       "<!-- 139887887445296 -->\n",
       "<g class=\"node\" id=\"node12\"><title>139887887445296</title>\n",
       "<polygon fill=\"none\" points=\"92.5,-415.5 92.5,-461.5 376.5,-461.5 376.5,-415.5 92.5,-415.5\" stroke=\"black\"/>\n",
       "<text font-family=\"Times,serif\" font-size=\"14.00\" text-anchor=\"middle\" x=\"155\" y=\"-434.8\">dropout_2: Dropout</text>\n",
       "<polyline fill=\"none\" points=\"217.5,-415.5 217.5,-461.5 \" stroke=\"black\"/>\n",
       "<text font-family=\"Times,serif\" font-size=\"14.00\" text-anchor=\"middle\" x=\"245\" y=\"-446.3\">input:</text>\n",
       "<polyline fill=\"none\" points=\"217.5,-438.5 272.5,-438.5 \" stroke=\"black\"/>\n",
       "<text font-family=\"Times,serif\" font-size=\"14.00\" text-anchor=\"middle\" x=\"245\" y=\"-423.3\">output:</text>\n",
       "<polyline fill=\"none\" points=\"272.5,-415.5 272.5,-461.5 \" stroke=\"black\"/>\n",
       "<text font-family=\"Times,serif\" font-size=\"14.00\" text-anchor=\"middle\" x=\"324.5\" y=\"-446.3\">(None, 4, 4, 36)</text>\n",
       "<polyline fill=\"none\" points=\"272.5,-438.5 376.5,-438.5 \" stroke=\"black\"/>\n",
       "<text font-family=\"Times,serif\" font-size=\"14.00\" text-anchor=\"middle\" x=\"324.5\" y=\"-423.3\">(None, 4, 4, 36)</text>\n",
       "</g>\n",
       "<!-- 139887888382048&#45;&gt;139887887445296 -->\n",
       "<g class=\"edge\" id=\"edge12\"><title>139887888382048-&gt;139887887445296</title>\n",
       "<path d=\"M234.5,-498.366C234.5,-490.152 234.5,-480.658 234.5,-471.725\" fill=\"none\" stroke=\"black\"/>\n",
       "<polygon fill=\"black\" points=\"238,-471.607 234.5,-461.607 231,-471.607 238,-471.607\" stroke=\"black\"/>\n",
       "</g>\n",
       "<!-- 139887887753168 -->\n",
       "<g class=\"node\" id=\"node13\"><title>139887887753168</title>\n",
       "<polygon fill=\"none\" points=\"107,-332.5 107,-378.5 362,-378.5 362,-332.5 107,-332.5\" stroke=\"black\"/>\n",
       "<text font-family=\"Times,serif\" font-size=\"14.00\" text-anchor=\"middle\" x=\"155\" y=\"-351.8\">flatten: Flatten</text>\n",
       "<polyline fill=\"none\" points=\"203,-332.5 203,-378.5 \" stroke=\"black\"/>\n",
       "<text font-family=\"Times,serif\" font-size=\"14.00\" text-anchor=\"middle\" x=\"230.5\" y=\"-363.3\">input:</text>\n",
       "<polyline fill=\"none\" points=\"203,-355.5 258,-355.5 \" stroke=\"black\"/>\n",
       "<text font-family=\"Times,serif\" font-size=\"14.00\" text-anchor=\"middle\" x=\"230.5\" y=\"-340.3\">output:</text>\n",
       "<polyline fill=\"none\" points=\"258,-332.5 258,-378.5 \" stroke=\"black\"/>\n",
       "<text font-family=\"Times,serif\" font-size=\"14.00\" text-anchor=\"middle\" x=\"310\" y=\"-363.3\">(None, 4, 4, 36)</text>\n",
       "<polyline fill=\"none\" points=\"258,-355.5 362,-355.5 \" stroke=\"black\"/>\n",
       "<text font-family=\"Times,serif\" font-size=\"14.00\" text-anchor=\"middle\" x=\"310\" y=\"-340.3\">(None, 576)</text>\n",
       "</g>\n",
       "<!-- 139887887445296&#45;&gt;139887887753168 -->\n",
       "<g class=\"edge\" id=\"edge13\"><title>139887887445296-&gt;139887887753168</title>\n",
       "<path d=\"M234.5,-415.366C234.5,-407.152 234.5,-397.658 234.5,-388.725\" fill=\"none\" stroke=\"black\"/>\n",
       "<polygon fill=\"black\" points=\"238,-388.607 234.5,-378.607 231,-388.607 238,-388.607\" stroke=\"black\"/>\n",
       "</g>\n",
       "<!-- 139887887068744 -->\n",
       "<g class=\"node\" id=\"node14\"><title>139887887068744</title>\n",
       "<polygon fill=\"none\" points=\"121,-249.5 121,-295.5 348,-295.5 348,-249.5 121,-249.5\" stroke=\"black\"/>\n",
       "<text font-family=\"Times,serif\" font-size=\"14.00\" text-anchor=\"middle\" x=\"165.5\" y=\"-268.8\">dense: Dense</text>\n",
       "<polyline fill=\"none\" points=\"210,-249.5 210,-295.5 \" stroke=\"black\"/>\n",
       "<text font-family=\"Times,serif\" font-size=\"14.00\" text-anchor=\"middle\" x=\"237.5\" y=\"-280.3\">input:</text>\n",
       "<polyline fill=\"none\" points=\"210,-272.5 265,-272.5 \" stroke=\"black\"/>\n",
       "<text font-family=\"Times,serif\" font-size=\"14.00\" text-anchor=\"middle\" x=\"237.5\" y=\"-257.3\">output:</text>\n",
       "<polyline fill=\"none\" points=\"265,-249.5 265,-295.5 \" stroke=\"black\"/>\n",
       "<text font-family=\"Times,serif\" font-size=\"14.00\" text-anchor=\"middle\" x=\"306.5\" y=\"-280.3\">(None, 576)</text>\n",
       "<polyline fill=\"none\" points=\"265,-272.5 348,-272.5 \" stroke=\"black\"/>\n",
       "<text font-family=\"Times,serif\" font-size=\"14.00\" text-anchor=\"middle\" x=\"306.5\" y=\"-257.3\">(None, 512)</text>\n",
       "</g>\n",
       "<!-- 139887887753168&#45;&gt;139887887068744 -->\n",
       "<g class=\"edge\" id=\"edge14\"><title>139887887753168-&gt;139887887068744</title>\n",
       "<path d=\"M234.5,-332.366C234.5,-324.152 234.5,-314.658 234.5,-305.725\" fill=\"none\" stroke=\"black\"/>\n",
       "<polygon fill=\"black\" points=\"238,-305.607 234.5,-295.607 231,-305.607 238,-305.607\" stroke=\"black\"/>\n",
       "</g>\n",
       "<!-- 139887887328368 -->\n",
       "<g class=\"node\" id=\"node15\"><title>139887887328368</title>\n",
       "<polygon fill=\"none\" points=\"17.5,-166.5 17.5,-212.5 451.5,-212.5 451.5,-166.5 17.5,-166.5\" stroke=\"black\"/>\n",
       "<text font-family=\"Times,serif\" font-size=\"14.00\" text-anchor=\"middle\" x=\"165.5\" y=\"-185.8\">batch_normalization_v1_3: BatchNormalizationV1</text>\n",
       "<polyline fill=\"none\" points=\"313.5,-166.5 313.5,-212.5 \" stroke=\"black\"/>\n",
       "<text font-family=\"Times,serif\" font-size=\"14.00\" text-anchor=\"middle\" x=\"341\" y=\"-197.3\">input:</text>\n",
       "<polyline fill=\"none\" points=\"313.5,-189.5 368.5,-189.5 \" stroke=\"black\"/>\n",
       "<text font-family=\"Times,serif\" font-size=\"14.00\" text-anchor=\"middle\" x=\"341\" y=\"-174.3\">output:</text>\n",
       "<polyline fill=\"none\" points=\"368.5,-166.5 368.5,-212.5 \" stroke=\"black\"/>\n",
       "<text font-family=\"Times,serif\" font-size=\"14.00\" text-anchor=\"middle\" x=\"410\" y=\"-197.3\">(None, 512)</text>\n",
       "<polyline fill=\"none\" points=\"368.5,-189.5 451.5,-189.5 \" stroke=\"black\"/>\n",
       "<text font-family=\"Times,serif\" font-size=\"14.00\" text-anchor=\"middle\" x=\"410\" y=\"-174.3\">(None, 512)</text>\n",
       "</g>\n",
       "<!-- 139887887068744&#45;&gt;139887887328368 -->\n",
       "<g class=\"edge\" id=\"edge15\"><title>139887887068744-&gt;139887887328368</title>\n",
       "<path d=\"M234.5,-249.366C234.5,-241.152 234.5,-231.658 234.5,-222.725\" fill=\"none\" stroke=\"black\"/>\n",
       "<polygon fill=\"black\" points=\"238,-222.607 234.5,-212.607 231,-222.607 238,-222.607\" stroke=\"black\"/>\n",
       "</g>\n",
       "<!-- 139887886273840 -->\n",
       "<g class=\"node\" id=\"node16\"><title>139887886273840</title>\n",
       "<polygon fill=\"none\" points=\"103,-83.5 103,-129.5 366,-129.5 366,-83.5 103,-83.5\" stroke=\"black\"/>\n",
       "<text font-family=\"Times,serif\" font-size=\"14.00\" text-anchor=\"middle\" x=\"165.5\" y=\"-102.8\">dropout_3: Dropout</text>\n",
       "<polyline fill=\"none\" points=\"228,-83.5 228,-129.5 \" stroke=\"black\"/>\n",
       "<text font-family=\"Times,serif\" font-size=\"14.00\" text-anchor=\"middle\" x=\"255.5\" y=\"-114.3\">input:</text>\n",
       "<polyline fill=\"none\" points=\"228,-106.5 283,-106.5 \" stroke=\"black\"/>\n",
       "<text font-family=\"Times,serif\" font-size=\"14.00\" text-anchor=\"middle\" x=\"255.5\" y=\"-91.3\">output:</text>\n",
       "<polyline fill=\"none\" points=\"283,-83.5 283,-129.5 \" stroke=\"black\"/>\n",
       "<text font-family=\"Times,serif\" font-size=\"14.00\" text-anchor=\"middle\" x=\"324.5\" y=\"-114.3\">(None, 512)</text>\n",
       "<polyline fill=\"none\" points=\"283,-106.5 366,-106.5 \" stroke=\"black\"/>\n",
       "<text font-family=\"Times,serif\" font-size=\"14.00\" text-anchor=\"middle\" x=\"324.5\" y=\"-91.3\">(None, 512)</text>\n",
       "</g>\n",
       "<!-- 139887887328368&#45;&gt;139887886273840 -->\n",
       "<g class=\"edge\" id=\"edge16\"><title>139887887328368-&gt;139887886273840</title>\n",
       "<path d=\"M234.5,-166.366C234.5,-158.152 234.5,-148.658 234.5,-139.725\" fill=\"none\" stroke=\"black\"/>\n",
       "<polygon fill=\"black\" points=\"238,-139.607 234.5,-129.607 231,-139.607 238,-139.607\" stroke=\"black\"/>\n",
       "</g>\n",
       "<!-- 139887887749192 -->\n",
       "<g class=\"node\" id=\"node17\"><title>139887887749192</title>\n",
       "<polygon fill=\"none\" points=\"114.5,-0.5 114.5,-46.5 354.5,-46.5 354.5,-0.5 114.5,-0.5\" stroke=\"black\"/>\n",
       "<text font-family=\"Times,serif\" font-size=\"14.00\" text-anchor=\"middle\" x=\"165.5\" y=\"-19.8\">dense_1: Dense</text>\n",
       "<polyline fill=\"none\" points=\"216.5,-0.5 216.5,-46.5 \" stroke=\"black\"/>\n",
       "<text font-family=\"Times,serif\" font-size=\"14.00\" text-anchor=\"middle\" x=\"244\" y=\"-31.3\">input:</text>\n",
       "<polyline fill=\"none\" points=\"216.5,-23.5 271.5,-23.5 \" stroke=\"black\"/>\n",
       "<text font-family=\"Times,serif\" font-size=\"14.00\" text-anchor=\"middle\" x=\"244\" y=\"-8.3\">output:</text>\n",
       "<polyline fill=\"none\" points=\"271.5,-0.5 271.5,-46.5 \" stroke=\"black\"/>\n",
       "<text font-family=\"Times,serif\" font-size=\"14.00\" text-anchor=\"middle\" x=\"313\" y=\"-31.3\">(None, 512)</text>\n",
       "<polyline fill=\"none\" points=\"271.5,-23.5 354.5,-23.5 \" stroke=\"black\"/>\n",
       "<text font-family=\"Times,serif\" font-size=\"14.00\" text-anchor=\"middle\" x=\"313\" y=\"-8.3\">(None, 1)</text>\n",
       "</g>\n",
       "<!-- 139887886273840&#45;&gt;139887887749192 -->\n",
       "<g class=\"edge\" id=\"edge17\"><title>139887886273840-&gt;139887887749192</title>\n",
       "<path d=\"M234.5,-83.3664C234.5,-75.1516 234.5,-65.6579 234.5,-56.7252\" fill=\"none\" stroke=\"black\"/>\n",
       "<polygon fill=\"black\" points=\"238,-56.6068 234.5,-46.6068 231,-56.6069 238,-56.6068\" stroke=\"black\"/>\n",
       "</g>\n",
       "<!-- 139887897909624 -->\n",
       "<g class=\"node\" id=\"node18\"><title>139887897909624</title>\n",
       "<polygon fill=\"none\" points=\"175.5,-1411.5 175.5,-1447.5 293.5,-1447.5 293.5,-1411.5 175.5,-1411.5\" stroke=\"black\"/>\n",
       "<text font-family=\"Times,serif\" font-size=\"14.00\" text-anchor=\"middle\" x=\"234.5\" y=\"-1425.8\">139887897909624</text>\n",
       "</g>\n",
       "<!-- 139887897909624&#45;&gt;139887897908224 -->\n",
       "<g class=\"edge\" id=\"edge1\"><title>139887897909624-&gt;139887897908224</title>\n",
       "<path d=\"M234.5,-1411.25C234.5,-1403.36 234.5,-1393.75 234.5,-1384.6\" fill=\"none\" stroke=\"black\"/>\n",
       "<polygon fill=\"black\" points=\"238,-1384.59 234.5,-1374.59 231,-1384.59 238,-1384.59\" stroke=\"black\"/>\n",
       "</g>\n",
       "</g>\n",
       "</svg>"
      ],
      "text/plain": [
       "<IPython.core.display.SVG object>"
      ]
     },
     "execution_count": 21,
     "metadata": {},
     "output_type": "execute_result"
    }
   ],
   "source": [
    "from IPython.display import SVG\n",
    "from keras.utils.vis_utils import model_to_dot\n",
    "SVG(model_to_dot(model,show_shapes = True).create(prog='dot', format='svg'))"
   ]
  },
  {
   "cell_type": "code",
   "execution_count": 22,
   "metadata": {},
   "outputs": [
    {
     "name": "stdout",
     "output_type": "stream",
     "text": [
      "\n",
      " Test accuracy: 0.95238096\n"
     ]
    }
   ],
   "source": [
    "# Evaluate the model on test set\n",
    "score = model.evaluate(x_test, y_test, verbose=0)\n",
    "\n",
    "# Print test accuracy\n",
    "print('\\n', 'Test accuracy:', score[1])"
   ]
  },
  {
   "cell_type": "code",
   "execution_count": 23,
   "metadata": {},
   "outputs": [],
   "source": [
    "labels =[\"Yes\",  # index 0\n",
    "        \"No\",      # index 1\n",
    "        ]"
   ]
  },
  {
   "cell_type": "code",
   "execution_count": 24,
   "metadata": {},
   "outputs": [
    {
     "data": {
      "image/png": "[encoded data removed]",
      "text/plain": [
       "<Figure size 1440x576 with 15 Axes>"
      ]
     },
     "metadata": {},
     "output_type": "display_data"
    }
   ],
   "source": [
    "y_hat = model.predict(x_test)\n",
    "\n",
    "# Plot a random sample of 10 test images, their predicted labels and ground truth\n",
    "figure = plt.figure(figsize=(20, 8))\n",
    "for i, index in enumerate(np.random.choice(x_test.shape[0], size=15, replace=False)):\n",
    "    ax = figure.add_subplot(3, 5, i + 1, xticks=[], yticks=[])\n",
    "    # Display each image\n",
    "    ax.imshow(np.squeeze(x_test[index]))\n",
    "    predict_index = np.argmax(y_hat[index])\n",
    "    true_index = np.argmax(y_test[index])\n",
    "    # Set the title for each image\n",
    "    ax.set_title(\"{} ({})\".format(labels[predict_index], \n",
    "                                  labels[true_index]),\n",
    "                                  color=(\"green\" if predict_index == true_index else \"red\"))\n",
    "plt.show()"
   ]
  },
  {
   "cell_type": "code",
   "execution_count": 25,
   "metadata": {},
   "outputs": [
    {
     "data": {
      "image/png": "[encoded data removed]",
      "text/plain": [
       "<Figure size 1080x360 with 2 Axes>"
      ]
     },
     "metadata": {},
     "output_type": "display_data"
    }
   ],
   "source": [
    "acc = history.history['acc']\n",
    "val_acc = history.history['val_acc']\n",
    "loss = history.history['loss']\n",
    "val_loss = history.history['val_loss']\n",
    "epochs_range = range(1, len(history.epoch) + 1)\n",
    "\n",
    "plt.figure(figsize=(15,5))\n",
    "\n",
    "plt.subplot(1, 2, 1)\n",
    "plt.plot(epochs_range, acc, label='Train Set')\n",
    "plt.plot(epochs_range, val_acc, label='Val Set')\n",
    "plt.legend(loc=\"best\")\n",
    "plt.xlabel('Epochs')\n",
    "plt.ylabel('Accuracy')\n",
    "plt.title('Model Accuracy')\n",
    "\n",
    "plt.subplot(1, 2, 2)\n",
    "plt.plot(epochs_range, loss, label='Train Set')\n",
    "plt.plot(epochs_range, val_loss, label='Val Set')\n",
    "plt.legend(loc=\"best\")\n",
    "plt.xlabel('Epochs')\n",
    "plt.ylabel('Loss')\n",
    "plt.title('Model Loss')\n",
    "\n",
    "plt.tight_layout()\n",
    "plt.show()"
   ]
  },
  {
   "cell_type": "code",
   "execution_count": 26,
   "metadata": {},
   "outputs": [
    {
     "name": "stdout",
     "output_type": "stream",
     "text": [
      "Val Accuracy = 0.95\n"
     ]
    },
    {
     "ename": "NameError",
     "evalue": "name 'plot_confusion_matrix' is not defined",
     "output_type": "error",
     "traceback": [
      "\u001b[0;31m---------------------------------------------------------------------------\u001b[0m",
      "\u001b[0;31mNameError\u001b[0m                                 Traceback (most recent call last)",
      "\u001b[0;32m<ipython-input-26-81e458a6c4f0>\u001b[0m in \u001b[0;36m<module>\u001b[0;34m()\u001b[0m\n\u001b[1;32m      6\u001b[0m \u001b[0;34m\u001b[0m\u001b[0m\n\u001b[1;32m      7\u001b[0m \u001b[0mconfusion_mtx\u001b[0m \u001b[0;34m=\u001b[0m \u001b[0mconfusion_matrix\u001b[0m\u001b[0;34m(\u001b[0m\u001b[0my_valid\u001b[0m\u001b[0;34m,\u001b[0m \u001b[0mpredictions\u001b[0m\u001b[0;34m)\u001b[0m\u001b[0;34m\u001b[0m\u001b[0m\n\u001b[0;32m----> 8\u001b[0;31m \u001b[0mcm\u001b[0m \u001b[0;34m=\u001b[0m \u001b[0mplot_confusion_matrix\u001b[0m\u001b[0;34m(\u001b[0m\u001b[0mconfusion_mtx\u001b[0m\u001b[0;34m,\u001b[0m \u001b[0mclasses\u001b[0m \u001b[0;34m=\u001b[0m \u001b[0mlist\u001b[0m\u001b[0;34m(\u001b[0m\u001b[0mlabels\u001b[0m\u001b[0;34m.\u001b[0m\u001b[0mitems\u001b[0m\u001b[0;34m(\u001b[0m\u001b[0;34m)\u001b[0m\u001b[0;34m)\u001b[0m\u001b[0;34m,\u001b[0m \u001b[0mnormalize\u001b[0m\u001b[0;34m=\u001b[0m\u001b[0;32mFalse\u001b[0m\u001b[0;34m)\u001b[0m\u001b[0;34m\u001b[0m\u001b[0m\n\u001b[0m",
      "\u001b[0;31mNameError\u001b[0m: name 'plot_confusion_matrix' is not defined"
     ]
    }
   ],
   "source": [
    "predictions = model.predict(x_valid)\n",
    "predictions = [1 if x>0.5 else 0 for x in predictions]\n",
    "\n",
    "accuracy = accuracy_score(y_valid, predictions)\n",
    "print('Val Accuracy = %.2f' % accuracy)\n",
    "\n",
    "confusion_mtx = confusion_matrix(y_valid, predictions) \n",
    "cm = plot_confusion_matrix(confusion_mtx, classes = list(labels.items()), normalize=False)"
   ]
  }
 ],
 "metadata": {
  "kernelspec": {
   "display_name": "Python 3",
   "language": "python",
   "name": "python3"
  },
  "language_info": {
   "codemirror_mode": {
    "name": "ipython",
    "version": 3
   },
   "file_extension": ".py",
   "mimetype": "text/x-python",
   "name": "python",
   "nbconvert_exporter": "python",
   "pygments_lexer": "ipython3",
   "version": "3.6.4"
  }
 },
 "nbformat": 4,
 "nbformat_minor": 4
}
